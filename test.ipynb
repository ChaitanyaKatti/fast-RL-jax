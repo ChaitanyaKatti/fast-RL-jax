{
 "cells": [
  {
   "cell_type": "markdown",
   "id": "ff735c24",
   "metadata": {},
   "source": [
    "# PPO Clip Visualization"
   ]
  },
  {
   "cell_type": "code",
   "execution_count": null,
   "id": "e8743618",
   "metadata": {},
   "outputs": [],
   "source": [
    "import numpy as np\n",
    "import matplotlib.pyplot as plt\n",
    "\n",
    "# Parameters (example values similar to PPO paper)\n",
    "mu_old = 0.0           # old policy mean\n",
    "log_std_old = 0.0      # old policy log std (σ_old = 1)\n",
    "sigma_old = np.exp(log_std_old)\n",
    "\n",
    "a_t = 0.0              # action taken\n",
    "eps = 0.2              # PPO clip epsilon\n",
    "\n",
    "# Grid for μ_t and log σ_t\n",
    "mu_range = np.linspace(-1.2, 1.2, 300)\n",
    "log_std_range = np.linspace(-1.4, 0.5, 300)\n",
    "MU, LOG_STD = np.meshgrid(mu_range, log_std_range)\n",
    "SIGMA = np.exp(LOG_STD)from flax import struct\n",
    "import jax.numpy as jnp\n",
    "from jax import random, vmap\n",
    "\n",
    "# Approach 1: Using __post_init__ (Recommended)\n",
    "@struct.dataclass\n",
    "class CrazyflieParams:\n",
    "    num_agents: int = 1\n",
    "    mass: float = 0.028\n",
    "    inertia: jnp.ndarray = jnp.array([\n",
    "        [16.571710, 0.830806, 0.718277],\n",
    "        [0.830806, 16.655602, 1.800197],\n",
    "        [0.718277, 1.800197, 29.261652],\n",
    "    ])\n",
    "    arm_length: float = 0.5\n",
    "    g: float = 9.8\n",
    "    motor_settling_time: float = 0.01\n",
    "    \n",
    "    # This will be computed in __post_init__\n",
    "    motor_alpha: float = struct.field(init=False)\n",
    "    \n",
    "    def __post_init__(self):\n",
    "        # Compute dependent values\n",
    "        motor_alpha = 1 - jnp.exp(-self.motor_settling_time / 0.01)\n",
    "        # Use object.__setattr__ since dataclass is frozen\n",
    "        object.__setattr__(self, 'motor_alpha', motor_alpha)\n",
    "\n",
    "\n",
    "# Compute log r_t\n",
    "log_r = (log_std_old - LOG_STD) + \\\n",
    "        ((a_t - mu_old)**2) / (2 * sigma_old**2) - \\\n",
    "        ((a_t - MU)**2) / (2 * SIGMA**2)\n",
    "\n",
    "# Clip bounds in log space\n",
    "lower_bound = np.log(1 - eps)\n",
    "upper_bound = np.log(1 + eps)\n",
    "\n",
    "# Region mask\n",
    "mask = (log_r >= lower_bound) & (log_r <= upper_bound)\n",
    "\n",
    "# Compute KL divergence D_KL( pi_old || pi_new ) for Gaussian policies\n",
    "KL = np.log(SIGMA / sigma_old) + \\\n",
    "     (sigma_old**2 + (MU - mu_old)**2) / (2 * SIGMA**2) - 0.5\n",
    "\n",
    "# Plot with KL contours\n",
    "plt.figure(figsize=(6,6))\n",
    "plt.contour(MU, LOG_STD, log_r, levels=[lower_bound, upper_bound],\n",
    "            colors='k', linestyles='--', linewidths=1.5, alpha=0.8)\n",
    "plt.imshow(1-mask, extent=[mu_range.min(), mu_range.max(), log_std_range.min(), log_std_range.max()],\n",
    "           origin='lower', alpha=0.15, cmap='gray')\n",
    "\n",
    "# KL divergence contours\n",
    "kl_levels = [0.01, 0.05, 0.1, 0.2, 0.5, 1.0, 2.0, 5.0]\n",
    "contours = plt.contour(MU, LOG_STD, KL, levels=kl_levels, cmap='coolwarm')\n",
    "plt.clabel(contours, inline=True, fontsize=8, fmt=\"%.2f\")\n",
    "\n",
    "# Mark theta_old\n",
    "plt.scatter(mu_old, log_std_old, color='red', label=r'$\\theta_{\\mathrm{old}}$')\n",
    "plt.xlabel(r'$\\mu_t$')\n",
    "plt.ylabel(r'$\\log \\Sigma_t$')\n",
    "plt.legend()\n",
    "plt.title(\"PPO Clipping Region with KL Divergence Contours\")\n",
    "plt.show()\n"
   ]
  },
  {
   "cell_type": "markdown",
   "id": "4d5db7a6",
   "metadata": {},
   "source": [
    "# Max Tanh Gaussian Distribution Entropy"
   ]
  },
  {
   "cell_type": "code",
   "execution_count": null,
   "id": "65047811",
   "metadata": {},
   "outputs": [],
   "source": [
    "import matplotlib.pyplot as plt\n",
    "import numpy as np"
   ]
  },
  {
   "cell_type": "code",
   "execution_count": null,
   "id": "c1284e46",
   "metadata": {},
   "outputs": [],
   "source": [
    "mu_range = np.linspace(-3, 3, 300)\n",
    "log_std_range = np.linspace(-4, 2, 300)\n",
    "MU, LOG_STD = np.meshgrid(mu_range, log_std_range)\n",
    "SIGMA = np.exp(LOG_STD)\n",
    "\n",
    "def gaussian_pdf(x, mu, log_std):\n",
    "    sigma = np.exp(log_std)\n",
    "    z = (x - mu) / sigma\n",
    "    return 0.5 * np.exp(-0.5 * z**2) / (sigma * np.sqrt(2 * np.pi))\n",
    "\n",
    "def tanh_gaussian_pdf(x, mu, log_std):\n",
    "    return gaussian_pdf(np.arctanh(x), mu, log_std) / (1 - x**2)\n",
    "\n",
    "def entropy_tanh_gaussian(mu, log_std):\n",
    "    N, M = mu.shape\n",
    "    assert N == M, \"MU and LOG_STD must be square matrices of the same shape\"\n",
    "    \n",
    "    K = 1000  # Number of points for numerical integration\n",
    "    x = np.linspace(-1.0 + 1e-6, 1.0 - 1e-6, K)\n",
    "    \n",
    "    MU_exp = mu[..., np.newaxis]            # (N, N, 1)\n",
    "    LOG_STD_exp = log_std[..., np.newaxis]  # (N, N, 1)\n",
    "    x_exp = x[np.newaxis, np.newaxis, :]    # (1, 1, K)\n",
    "\n",
    "    MU_broadcast = np.broadcast_to(MU_exp, (N, N, K))\n",
    "    LOG_STD_broadcast = np.broadcast_to(LOG_STD_exp, (N, N, K))\n",
    "    x_broadcast = np.broadcast_to(x_exp, (N, N, K))\n",
    "    \n",
    "    pdf_values = tanh_gaussian_pdf(x_broadcast, MU_broadcast, LOG_STD_broadcast)\n",
    "\n",
    "    # Entropy is calculated as -∫ p(x) log(p(x)) dx\n",
    "    entropy = -np.sum(pdf_values * np.log(pdf_values + 1e-10), axis=-1) * (x[1] - x[0])\n",
    "    return entropy\n",
    "\n",
    "entropy_values = entropy_tanh_gaussian(MU, LOG_STD)\n",
    "log_sigma_for_max_entropy = log_std_range[np.argmax(entropy_values, axis=0)]\n",
    "plt.figure(figsize=(8, 6))\n",
    "plt.contourf(MU, LOG_STD, entropy_values, levels=100, cmap='viridis', alpha=0.8)\n",
    "plt.plot(MU[0, :], log_sigma_for_max_entropy, color='blue', label='Max Entropy Curve')\n",
    "plt.colorbar(label='Entropy')\n",
    "plt.xlabel(r'$\\mu_t$')\n",
    "plt.ylabel(r'$\\log \\Sigma_t$')\n",
    "plt.title('Entropy of Tanh Gaussian Distribution')\n",
    "plt.scatter(0.0, 0.0, color='red', label=r'$\\theta_{\\mathrm{old}}$', s=50)\n",
    "plt.legend()\n",
    "plt.show()"
   ]
  },
  {
   "cell_type": "code",
   "execution_count": null,
   "id": "c04cc23e",
   "metadata": {},
   "outputs": [],
   "source": [
    "entropy_values.argmax()"
   ]
  },
  {
   "cell_type": "markdown",
   "id": "8abc24f2",
   "metadata": {},
   "source": [
    "# Opimal Parameters Fast Entorpy\n",
    "\n",
    "- k-dimensional\n",
    "- N parameters\n",
    "- Optimized for gradients of entropy"
   ]
  },
  {
   "cell_type": "code",
   "execution_count": 37,
   "id": "376e33b7",
   "metadata": {},
   "outputs": [],
   "source": [
    "import jax\n",
    "import jax.numpy as jnp\n",
    "import optax\n",
    "import tqdm\n",
    "import matplotlib.pyplot as plt"
   ]
  },
  {
   "cell_type": "code",
   "execution_count": 38,
   "id": "cc4bdcab",
   "metadata": {},
   "outputs": [],
   "source": [
    "# Initialize samples\n",
    "key = jax.random.PRNGKey(0)\n",
    "n_samples = 8\n",
    "dim = 1  # Dimension of the distribution\n",
    "mu_range = (-3.0, 3.0)\n",
    "std_range = (0.1, 5.0)\n",
    "dataset_size = 4096"
   ]
  },
  {
   "cell_type": "code",
   "execution_count": 39,
   "id": "42e0f5b4",
   "metadata": {},
   "outputs": [
    {
     "name": "stdout",
     "output_type": "stream",
     "text": [
      "mu_grid shape: (4096, 1)\n",
      "diag_std shape: (4096, 1)\n",
      "True entropies shape: (4096,)\n",
      "True entropy gradients mu shape: (4096, 1)\n",
      "True entropy gradients std_diag shape: (4096, 1)\n"
     ]
    }
   ],
   "source": [
    "# Generate a dataset of mu and std values\n",
    "key, subkey1, subkey2 = jax.random.split(key, 3)\n",
    "means = jax.random.uniform(subkey1, (dataset_size, dim), minval=mu_range[0], maxval=mu_range[1])\n",
    "stds_diag = jax.random.uniform(subkey2, (dataset_size, dim), minval=std_range[0], maxval=std_range[1])\n",
    "\n",
    "@jax.jit\n",
    "def true_entropy_batch(means, stds_diag, keys):\n",
    "    def single_entropy(mu, std_diag, key):\n",
    "        samples = mu + std_diag * jax.random.normal(key, (n_samples, dim))\n",
    "        log_det_jacobian = jnp.sum(jnp.log(1 - jnp.tanh(samples) ** 2 + 1e-6), axis=-1)\n",
    "        gauss_entropy = 0.5 * dim * (jnp.log(2 * jnp.pi * jnp.e)) + jnp.sum(jnp.log(std_diag))\n",
    "        return gauss_entropy + jnp.mean(log_det_jacobian)\n",
    "    return jax.vmap(single_entropy)(means, stds_diag, keys)\n",
    "\n",
    "@jax.jit\n",
    "def true_entropy_gradients_batch(means, stds_diag, keys):\n",
    "    def single_entropy(mu, std_diag, key):\n",
    "        samples = mu + std_diag * jax.random.normal(key, (n_samples, dim))\n",
    "        log_det_jacobian = jnp.sum(jnp.log(1 - jnp.tanh(samples) ** 2 + 1e-6), axis=-1)\n",
    "        gauss_entropy = 0.5 * dim * (jnp.log(2 * jnp.pi * jnp.e)) + jnp.sum(jnp.log(std_diag))\n",
    "        entropy = gauss_entropy + jnp.mean(log_det_jacobian)\n",
    "        return entropy\n",
    "    # Compute gradients\n",
    "    grad_mu, grad_std_diag = jax.vmap(jax.grad(single_entropy, argnums=(0, 1)))(means, stds_diag, keys)\n",
    "    return grad_mu, grad_std_diag \n",
    "\n",
    "# Generate keys\n",
    "key, subkey = jax.random.split(key)\n",
    "subkeys = jax.random.split(subkey, dataset_size)\n",
    "true_entropies = true_entropy_batch(means, stds_diag, subkeys)\n",
    "true_entropy_grads_mu, true_entropy_grads_std_diag = true_entropy_gradients_batch(means, stds_diag, subkeys)\n",
    "print(\"mu_grid shape:\", means.shape)\n",
    "print(\"diag_std shape:\", stds_diag.shape)\n",
    "print(\"True entropies shape:\", true_entropies.shape)\n",
    "print(\"True entropy gradients mu shape:\", true_entropy_grads_mu.shape)\n",
    "print(\"True entropy gradients std_diag shape:\", true_entropy_grads_std_diag.shape)"
   ]
  },
  {
   "cell_type": "code",
   "execution_count": 40,
   "id": "61a611cc",
   "metadata": {},
   "outputs": [],
   "source": [
    "# Fast entropy using learned samples\n",
    "def fast_entropy(mean, std_diag, samples):\n",
    "    x = mean + std_diag * samples\n",
    "    log_det_jacobian = jnp.log(1 - jnp.tanh(x) ** 2 + 1e-6)\n",
    "    gauss_entropy = jnp.sum(jnp.log(std_diag)) + 0.5 * dim * jnp.log(2 * jnp.pi * jnp.e)\n",
    "    return gauss_entropy + jnp.mean(jnp.sum(log_det_jacobian, axis=-1))\n",
    "\n",
    "def fast_entropy_gradients(mean, std_diag, samples):\n",
    "    grad_mu, grad_std_diag = jax.grad(fast_entropy, argnums=(0, 1))(mean, std_diag, samples)\n",
    "    return grad_mu, grad_std_diag\n",
    "\n",
    "# Loss function\n",
    "@jax.jit\n",
    "def loss_fn_entropy_values(samples, means, stds_diag, true_entropies):\n",
    "    def single_loss(mu, std, true_ent):\n",
    "        est = fast_entropy(mu, std, samples)\n",
    "        return (est - true_ent)**2\n",
    "    return jax.vmap(single_loss)(means, stds_diag, true_entropies).mean()\n",
    "\n",
    "@jax.jit\n",
    "def loss_fn_entropy_gradients(samples, means, stds_diag, true_entropy_grads_mu, true_entropy_grads_std_diag):\n",
    "    def single_loss(mu, std, true_ent_grad_mu, true_ent_grad_std_diag):\n",
    "        grad_mu, grad_std_diag = fast_entropy_gradients(mu, std, samples)\n",
    "        return (grad_mu - true_ent_grad_mu)**2 + (grad_std_diag - true_ent_grad_std_diag)**2\n",
    "    return jax.vmap(single_loss)(means, stds_diag, true_entropy_grads_mu, true_entropy_grads_std_diag).mean()"
   ]
  },
  {
   "cell_type": "code",
   "execution_count": 45,
   "id": "928fd2ed",
   "metadata": {},
   "outputs": [
    {
     "name": "stdout",
     "output_type": "stream",
     "text": [
      "Sample shape (8, 1)\n"
     ]
    },
    {
     "name": "stderr",
     "output_type": "stream",
     "text": [
      "100%|██████████| 20000/20000 [00:02<00:00, 6931.02it/s]\n"
     ]
    },
    {
     "name": "stdout",
     "output_type": "stream",
     "text": [
      "Final learned samples (z): [[ 0.1073949 ]\n",
      " [-1.2608293 ]\n",
      " [ 0.5797289 ]\n",
      " [ 0.5797148 ]\n",
      " [ 0.10739301]\n",
      " [-0.45145652]\n",
      " [ 1.8561625 ]\n",
      " [-1.2133342 ]]\n"
     ]
    },
    {
     "data": {
      "image/png": "[encoded data removed]",
      "text/plain": [
       "<Figure size 640x480 with 1 Axes>"
      ]
     },
     "metadata": {},
     "output_type": "display_data"
    }
   ],
   "source": [
    "key, subkey = jax.random.split(key)\n",
    "samples = jax.random.normal(subkey, (n_samples,dim))\n",
    "opt = optax.adam(1e-3)\n",
    "opt_state = opt.init(samples)\n",
    "print(\"Sample shape\", samples.shape)\n",
    "\n",
    "# Training loop\n",
    "@jax.jit\n",
    "def train_step(samples, opt_state):\n",
    "    value_loss, grads1 = jax.value_and_grad(loss_fn_entropy_values)(samples, means, stds_diag, true_entropies)\n",
    "    gradient_loss, grads2 = jax.value_and_grad(loss_fn_entropy_gradients)(samples, means, stds_diag, true_entropy_grads_mu, true_entropy_grads_mu)\n",
    "    grads = grads1 + 0*grads2  # Combine gradients for both losses\n",
    "    updates, opt_state = opt.update(grads, opt_state)\n",
    "    samples = optax.apply_updates(samples, updates)\n",
    "    return samples, opt_state, value_loss, gradient_loss \n",
    "\n",
    "value_losses = []\n",
    "gradient_losses = []\n",
    "for i in tqdm.trange(20_000):\n",
    "    samples, opt_state, loss1, loss2 = train_step(samples, opt_state)\n",
    "    value_losses.append(loss1)\n",
    "    gradient_losses.append(loss2)\n",
    "\n",
    "print(\"Final learned samples (z):\", (samples).sort())\n",
    "plt.plot(value_losses, label='Value Loss')\n",
    "# plt.plot(gradient_losses, label='Gradient Loss')\n",
    "plt.xlabel('Training Steps')\n",
    "plt.ylabel('Loss')\n",
    "plt.title('Training Loss Over Steps')\n",
    "plt.legend()\n",
    "plt.show()"
   ]
  },
  {
   "cell_type": "markdown",
   "id": "5c2ac07d",
   "metadata": {},
   "source": [
    "### Learned Samples for fast MC entropy estimation "
   ]
  },
  {
   "cell_type": "code",
   "execution_count": 46,
   "id": "1bc697ce",
   "metadata": {},
   "outputs": [
    {
     "name": "stdout",
     "output_type": "stream",
     "text": [
      "Half set [-1.2608293294906616, -1.2133342027664185, -0.4514565169811249, 0.10739301145076752, 0.10739489644765854, 0.5797147750854492, 0.579728901386261, 1.8561625480651855]\n",
      "Full set [-1.8561625480651855, -1.2608293294906616, -1.2133342027664185, -0.579728901386261, -0.5797147750854492, -0.4514565169811249, -0.10739489644765854, -0.10739301145076752, 0.10739301145076752, 0.10739489644765854, 0.4514565169811249, 0.5797147750854492, 0.579728901386261, 1.2133342027664185, 1.2608293294906616, 1.8561625480651855]\n"
     ]
    }
   ],
   "source": [
    "if dim == 1:\n",
    "    samples = samples.squeeze()\n",
    "    print('Half set', [i.item() for i in samples.sort()])\n",
    "    ## Mirror the smaples to make it symmetric around zero\n",
    "    samples = jnp.concatenate([-samples[::-1], samples])  # Adding zero to ensure symmetry\n",
    "    print('Full set', [i.item() for i in samples.sort()])"
   ]
  },
  {
   "cell_type": "code",
   "execution_count": null,
   "id": "3b00d351",
   "metadata": {},
   "outputs": [],
   "source": [
    "[-2.28250789642334, -1.9211180210113525, -1.3525558710098267, -1.0677014589309692, -0.8902221918106079, -0.8044639229774475, -0.7819824814796448, -0.7775918245315552, -0.777317225933075, -0.7008596658706665, -0.6292149424552917, -0.29937660694122314, -0.1358855664730072, -0.09546408802270889, -0.03650583326816559, -0.012498264200985432, 0.012498264200985432, 0.03650583326816559, 0.09546408802270889, 0.1358855664730072, 0.29937660694122314, 0.6292149424552917, 0.7008596658706665, 0.777317225933075, 0.7775918245315552, 0.7819824814796448, 0.8044639229774475, 0.8902221918106079, 1.0677014589309692, 1.3525558710098267, 1.9211180210113525, 2.28250789642334]"
   ]
  },
  {
   "cell_type": "markdown",
   "id": "e9ed12c0",
   "metadata": {},
   "source": [
    "# Optimal samples for entorpy gradient estimation "
   ]
  },
  {
   "cell_type": "code",
   "execution_count": null,
   "id": "f266720e",
   "metadata": {},
   "outputs": [],
   "source": [
    "import jax\n",
    "import jax.numpy as jnp\n",
    "from jax import grad, random\n",
    "import optax\n",
    "\n",
    "# ------------------------------------------\n",
    "# Tanh Gaussian Entropy using Monte Carlo\n",
    "# ------------------------------------------\n",
    "def tanh_gaussian_entropy_mc(samples, mu, log_std):\n",
    "    std = jnp.exp(log_std)\n",
    "    z = mu + samples * std\n",
    "    y = jnp.tanh(z)\n",
    "    log_det_jacobian = jnp.sum(jnp.log(1 - jnp.square(y) + 1e-6), axis=-1)\n",
    "    base_log_prob = -0.5 * jnp.sum(jnp.square(samples) + 2 * log_std + jnp.log(2 * jnp.pi), axis=-1)\n",
    "    return -jnp.mean(base_log_prob - log_det_jacobian)\n",
    "\n",
    "# ------------------------------------------\n",
    "# True Entropy Gradient with Large Sample Set\n",
    "# ------------------------------------------\n",
    "def true_entropy_grad(mu, log_std, key, num_samples=10000):\n",
    "    dim = mu.shape[0]\n",
    "    samples = random.normal(key, shape=(num_samples, dim))\n",
    "    entropy_fn = lambda m, l: tanh_gaussian_entropy_mc(samples, m, l)\n",
    "    grad_mu = grad(entropy_fn, argnums=0)(mu, log_std)\n",
    "    grad_log_std = grad(entropy_fn, argnums=1)(mu, log_std)\n",
    "    return grad_mu, grad_log_std\n",
    "\n",
    "# ------------------------------------------\n",
    "# Estimated Entropy Gradient with Learned Samples\n",
    "# ------------------------------------------\n",
    "def estimated_entropy_grad(samples_learned, mu, log_std):\n",
    "    entropy_fn = lambda m, l: tanh_gaussian_entropy_mc(samples_learned, m, l)\n",
    "    grad_mu = grad(entropy_fn, argnums=0)(mu, log_std)\n",
    "    grad_log_std = grad(entropy_fn, argnums=1)(mu, log_std)\n",
    "    return grad_mu, grad_log_std\n",
    "\n",
    "# ------------------------------------------\n",
    "# Gradient Matching Loss Function\n",
    "# ------------------------------------------\n",
    "def gradient_matching_loss(samples_learned, mu, log_std, key):\n",
    "    true_grad_mu, true_grad_log_std = true_entropy_grad(mu, log_std, key)\n",
    "    est_grad_mu, est_grad_log_std = estimated_entropy_grad(samples_learned, mu, log_std)\n",
    "    loss = jnp.sum((true_grad_mu - est_grad_mu) ** 2) + jnp.sum((true_grad_log_std - est_grad_log_std) ** 2)\n",
    "    return loss\n",
    "\n",
    "# ------------------------------------------\n",
    "# Optimization Loop\n",
    "# ------------------------------------------\n",
    "def optimize_entropy_samples(dim=3, n_learned_samples=16, n_iters=1000, lr=1e-2, seed=0):\n",
    "    key = random.PRNGKey(seed)\n",
    "    mu = jnp.zeros((dim,))\n",
    "    log_std = jnp.zeros((dim,))\n",
    "    key, subkey = random.split(key)\n",
    "    samples_learned = random.normal(subkey, shape=(n_learned_samples, dim))\n",
    "\n",
    "    optimizer = optax.adam(lr)\n",
    "    opt_state = optimizer.init(samples_learned)\n",
    "\n",
    "    @jax.jit\n",
    "    def step(samples, opt_state, key):\n",
    "        loss, grads = jax.value_and_grad(gradient_matching_loss)(samples, mu, log_std, key)\n",
    "        updates, opt_state = optimizer.update(grads, opt_state, samples)\n",
    "        samples = optax.apply_updates(samples, updates)\n",
    "        return samples, opt_state, loss\n",
    "\n",
    "    losses = []\n",
    "    for i in range(n_iters):\n",
    "        key, subkey = random.split(key)\n",
    "        samples_learned, opt_state, loss = step(samples_learned, opt_state, subkey)\n",
    "        losses.append(loss)\n",
    "\n",
    "    return samples_learned, losses"
   ]
  },
  {
   "cell_type": "markdown",
   "id": "c78fecb7",
   "metadata": {},
   "source": [
    "# Misc"
   ]
  },
  {
   "cell_type": "code",
   "execution_count": null,
   "id": "46068251",
   "metadata": {},
   "outputs": [
    {
     "name": "stdout",
     "output_type": "stream",
     "text": [
      "Iteration 1, x: 0.8744005687622104\n",
      "Iteration 101, x: 0.8744477486715041\n",
      "Iteration 201, x: 0.8744799446041801\n",
      "Iteration 301, x: 0.8745019159428646\n",
      "Iteration 401, x: 0.8745169100269383\n",
      "Iteration 501, x: 0.8745271426921587\n",
      "Iteration 601, x: 0.8745341260014181\n",
      "Iteration 701, x: 0.8745388918067687\n",
      "Iteration 801, x: 0.8745421442748413\n",
      "Iteration 901, x: 0.8745443639578373\n",
      "Iteration 1001, x: 0.8745458788079644\n",
      "Iteration 1101, x: 0.8745469126374767\n",
      "Iteration 1201, x: 0.874547618188712\n",
      "Iteration 1301, x: 0.874548099702182\n",
      "Iteration 1401, x: 0.8745484283180266\n",
      "Iteration 1501, x: 0.8745486525867312\n",
      "Iteration 1601, x: 0.8745488056422283\n",
      "Iteration 1701, x: 0.8745489100972306\n",
      "Iteration 1801, x: 0.8745489813841085\n",
      "Iteration 1901, x: 0.8745490300349074\n",
      "Iteration 2001, x: 0.8745490632373749\n",
      "Iteration 2101, x: 0.8745490858968986\n",
      "Iteration 2201, x: 0.8745491013612311\n",
      "Iteration 2301, x: 0.8745491119150979\n",
      "Iteration 2401, x: 0.8745491191177429\n",
      "Iteration 2501, x: 0.8745491240332965\n",
      "Iteration 2601, x: 0.8745491273879901\n",
      "Iteration 2701, x: 0.8745491296774514\n",
      "Iteration 2801, x: 0.874549131239929\n",
      "Iteration 2901, x: 0.8745491323062652\n",
      "Iteration 3001, x: 0.8745491330340021\n",
      "Iteration 3101, x: 0.874549133530657\n",
      "Iteration 3201, x: 0.8745491338696069\n",
      "Iteration 3301, x: 0.8745491341009284\n",
      "Iteration 3401, x: 0.8745491342587978\n",
      "Iteration 3501, x: 0.8745491343665377\n",
      "Iteration 3601, x: 0.8745491344400667\n",
      "Iteration 3701, x: 0.8745491344902471\n",
      "Iteration 3801, x: 0.8745491345244937\n",
      "Iteration 3901, x: 0.8745491345478658\n",
      "Iteration 4001, x: 0.874549134563816\n",
      "Iteration 4101, x: 0.874549134574702\n",
      "Iteration 4201, x: 0.8745491345821311\n",
      "Iteration 4301, x: 0.8745491345872012\n",
      "Iteration 4401, x: 0.8745491345906609\n",
      "Iteration 4501, x: 0.8745491345930227\n",
      "Iteration 4601, x: 0.8745491345946342\n",
      "Iteration 4701, x: 0.8745491345957344\n",
      "Iteration 4801, x: 0.8745491345964851\n",
      "Iteration 4901, x: 0.8745491345969975\n",
      "Iteration 5001, x: 0.8745491345973472\n",
      "Iteration 5101, x: 0.8745491345975859\n",
      "Iteration 5201, x: 0.8745491345977484\n",
      "Iteration 5301, x: 0.8745491345978595\n",
      "Iteration 5401, x: 0.8745491345979356\n",
      "Iteration 5501, x: 0.8745491345979869\n",
      "Iteration 5601, x: 0.8745491345980226\n",
      "Iteration 5701, x: 0.874549134598046\n",
      "Iteration 5801, x: 0.8745491345980616\n",
      "Iteration 5901, x: 0.8745491345980727\n",
      "Iteration 6001, x: 0.8745491345980838\n",
      "Iteration 6101, x: 0.874549134598084\n",
      "Iteration 6201, x: 0.874549134598084\n",
      "Iteration 6301, x: 0.874549134598084\n",
      "Iteration 6401, x: 0.874549134598084\n",
      "Iteration 6501, x: 0.874549134598084\n",
      "Iteration 6601, x: 0.874549134598084\n",
      "Iteration 6701, x: 0.874549134598084\n",
      "Iteration 6801, x: 0.874549134598084\n",
      "Iteration 6901, x: 0.874549134598084\n",
      "Iteration 7001, x: 0.874549134598084\n",
      "Iteration 7101, x: 0.874549134598084\n",
      "Iteration 7201, x: 0.874549134598084\n",
      "Iteration 7301, x: 0.874549134598084\n",
      "Iteration 7401, x: 0.874549134598084\n",
      "Iteration 7501, x: 0.874549134598084\n",
      "Iteration 7601, x: 0.874549134598084\n",
      "Iteration 7701, x: 0.874549134598084\n",
      "Iteration 7801, x: 0.874549134598084\n",
      "Iteration 7901, x: 0.874549134598084\n",
      "Iteration 8001, x: 0.874549134598084\n",
      "Iteration 8101, x: 0.874549134598084\n",
      "Iteration 8201, x: 0.874549134598084\n",
      "Iteration 8301, x: 0.874549134598084\n",
      "Iteration 8401, x: 0.874549134598084\n",
      "Iteration 8501, x: 0.874549134598084\n",
      "Iteration 8601, x: 0.874549134598084\n",
      "Iteration 8701, x: 0.874549134598084\n",
      "Iteration 8801, x: 0.874549134598084\n",
      "Iteration 8901, x: 0.874549134598084\n",
      "Iteration 9001, x: 0.874549134598084\n",
      "Iteration 9101, x: 0.874549134598084\n",
      "Iteration 9201, x: 0.874549134598084\n",
      "Iteration 9301, x: 0.874549134598084\n",
      "Iteration 9401, x: 0.874549134598084\n",
      "Iteration 9501, x: 0.874549134598084\n",
      "Iteration 9601, x: 0.874549134598084\n",
      "Iteration 9701, x: 0.874549134598084\n",
      "Iteration 9801, x: 0.874549134598084\n",
      "Iteration 9901, x: 0.874549134598084\n",
      "Optimized x: 0.874549134598084\n",
      "Entropy value: 0.6837350076936062\n",
      "Gradient value: 2.7755575615628914e-14\n"
     ]
    }
   ],
   "source": [
    "import jax\n",
    "import jax.numpy as jnp\n",
    "\n",
    "key = jax.random.PRNGKey(7)\n",
    "samples = jax.random.normal(key, shape=(1_000_000,), dtype=jnp.float64)  # Example learned samples\n",
    "samples = jnp.concatenate([-samples[::-1], samples, jnp.array([0])])  # Adding zero to ensure symmetry\n",
    "samples = (samples - jnp.mean(samples)) / jnp.std(samples)  # Normalize samples\n",
    "\n",
    "def f(x):\n",
    "    return jnp.mean(jnp.log1p(-jnp.tanh(x * samples) ** 2)) + 0.5 * jnp.log(2 *jnp.pi *jnp.e * x**2)\n",
    "def f_grad(x):\n",
    "    return (1/x) + jnp.mean(-2 * jnp.tanh(x * samples) * samples)\n",
    "\n",
    "@jax.jit\n",
    "def update_f(x):\n",
    "    x += 0.002*f_grad(x)\n",
    "    return x\n",
    "\n",
    "x_0 = 0.8744  # Initial value for x, very close to the optimal value\n",
    "x_0 = jnp.array(x_0, dtype=jnp.float64)  # Ensure x_0 is a float64 for higher precision\n",
    "\n",
    "for i in range(10_000):\n",
    "    x_0 = update_f(x_0)\n",
    "    if i%100==0:\n",
    "        print(f\"Iteration {i+1}, x: {x_0}\")\n",
    "print(\"Optimized x:\", x_0)\n",
    "print(\"Entropy value:\", f(x_0))\n",
    "print(\"Gradient value:\", f_grad(x_0))"
   ]
  },
  {
   "cell_type": "code",
   "execution_count": null,
   "id": "e6fb2e75",
   "metadata": {},
   "outputs": [
    {
     "name": "stdout",
     "output_type": "stream",
     "text": [
      "Iteration 1, x: 0.8744000196456909\n",
      "Iteration 101, x: 0.8744000196456909\n",
      "Iteration 201, x: 0.8744000196456909\n",
      "Iteration 301, x: 0.8744000196456909\n",
      "Iteration 401, x: 0.8744000196456909\n",
      "Iteration 501, x: 0.8744000196456909\n",
      "Iteration 601, x: 0.8744000196456909\n",
      "Iteration 701, x: 0.8744000196456909\n",
      "Iteration 801, x: 0.8744000196456909\n",
      "Iteration 901, x: 0.8744000196456909\n",
      "Optimized x: 0.8744\n",
      "Entropy value: 0.6836473\n",
      "Gradient value: 2.2053719e-05\n"
     ]
    }
   ],
   "source": []
  },
  {
   "cell_type": "code",
   "execution_count": null,
   "id": "c2906781",
   "metadata": {},
   "outputs": [
    {
     "data": {
      "text/plain": [
       "0.8744062185287476"
      ]
     },
     "execution_count": 58,
     "metadata": {},
     "output_type": "execute_result"
    }
   ],
   "source": [
    "0.8727344274520874 # 100\n",
    "0.8727468252182007 # 100k\n",
    "0.8743883967399597 # 10M\n",
    "0.8744339942932129 # 100M\n",
    "0.874382734298706  # 100M\n",
    "0.8744062185287476 # 100M\n",
    "0.8744085431098938 # 100M"
   ]
  },
  {
   "cell_type": "code",
   "execution_count": 21,
   "id": "3027062a",
   "metadata": {},
   "outputs": [
    {
     "name": "stdout",
     "output_type": "stream",
     "text": [
      "{ \u001b[34;1mlambda \u001b[39;22m; a\u001b[35m:f32[]\u001b[39m b\u001b[35m:f32[]\u001b[39m c\u001b[35m:f32[]\u001b[39m. \u001b[34;1mlet\n",
      "    \u001b[39;22md\u001b[35m:f32[]\u001b[39m = mul a b\n",
      "    e\u001b[35m:f32[]\u001b[39m = mul d b\n",
      "    f\u001b[35m:f32[]\u001b[39m = mul c b\n",
      "    g\u001b[35m:f32[]\u001b[39m = add e f\n",
      "  \u001b[34;1min \u001b[39;22m(g,) }\n",
      "module @jit_f attributes {mhlo.num_partitions = 1 : i32, mhlo.num_replicas = 1 : i32} {\n",
      "  func.func public @main(%arg0: tensor<f32>, %arg1: tensor<f32>, %arg2: tensor<f32>) -> (tensor<f32> {jax.result_info = \"result\"}) {\n",
      "    %0 = stablehlo.multiply %arg0, %arg1 : tensor<f32>\n",
      "    %1 = stablehlo.multiply %0, %arg1 : tensor<f32>\n",
      "    %2 = stablehlo.multiply %arg2, %arg1 : tensor<f32>\n",
      "    %3 = stablehlo.add %1, %2 : tensor<f32>\n",
      "    return %3 : tensor<f32>\n",
      "  }\n",
      "}\n",
      "\n",
      "CompiledMemoryStats(generated_code_size_in_bytes=2984, argument_size_in_bytes=12, output_size_in_bytes=4, alias_size_in_bytes=0, temp_size_in_bytes=0, host_generated_code_size_in_bytes=0, host_argument_size_in_bytes=0, host_output_size_in_bytes=0, host_alias_size_in_bytes=0, host_temp_size_in_bytes=0)\n"
     ]
    }
   ],
   "source": [
    "import jax\n",
    "import jax.numpy as jnp\n",
    "\n",
    "def f(a, x, b):\n",
    "    return a*x*x + b*x\n",
    "\n",
    "# JIT compile\n",
    "f_jit = jax.jit(f, inline=True)\n",
    "\n",
    "# Lower without running\n",
    "# lowered = f_jit.lower(3.0, 2.0, 4.0)\n",
    "traced = f_jit.trace(3.0, 2.0, 4.0)\n",
    "lowered = traced.lower()\n",
    "\n",
    "print(traced.jaxpr)\n",
    "print(lowered.as_text())   # human-readable HLO\n",
    "\n",
    "compiled = lowered.compile()\n",
    "print(compiled.memory_analysis())"
   ]
  },
  {
   "cell_type": "code",
   "execution_count": 77,
   "id": "cfe157a6",
   "metadata": {},
   "outputs": [
    {
     "data": {
      "text/plain": [
       "Example(a=1, b=[2, 1])"
      ]
     },
     "execution_count": 77,
     "metadata": {},
     "output_type": "execute_result"
    }
   ],
   "source": [
    "from dataclasses import dataclass, field\n",
    "import jax\n",
    "\n",
    "@jax.tree_util.register_dataclass\n",
    "@dataclass\n",
    "class Example:\n",
    "    a: int\n",
    "    b: list = field(default_factory=list)  # temporary default\n",
    "\n",
    "    def __post_init__(self):\n",
    "        # You can now use self.a to adjust b\n",
    "        self.b = [self.a * 2, 1]\n",
    "\n",
    "params = Example(1)\n",
    "params"
   ]
  },
  {
   "cell_type": "code",
   "execution_count": 88,
   "id": "5fa07edd",
   "metadata": {},
   "outputs": [
    {
     "ename": "TypeError",
     "evalue": "EnvParams.__init__() got an unexpected keyword argument 'num_agents'",
     "output_type": "error",
     "traceback": [
      "\u001b[31m---------------------------------------------------------------------------\u001b[39m",
      "\u001b[31mTypeError\u001b[39m                                 Traceback (most recent call last)",
      "\u001b[36mCell\u001b[39m\u001b[36m \u001b[39m\u001b[32mIn[88]\u001b[39m\u001b[32m, line 15\u001b[39m\n\u001b[32m     12\u001b[39m     num_agents: \u001b[38;5;28mint\u001b[39m = \u001b[32m1\u001b[39m         \u001b[38;5;66;03m# Number of agents in the environment\u001b[39;00m\n\u001b[32m     13\u001b[39m     mass: \u001b[38;5;28mfloat\u001b[39m = \u001b[32m1.0\u001b[39m           \u001b[38;5;66;03m# Mass of the drone\u001b[39;00m\n\u001b[32m---> \u001b[39m\u001b[32m15\u001b[39m params = \u001b[43mCrazyflieParams\u001b[49m\u001b[43m(\u001b[49m\n\u001b[32m     16\u001b[39m \u001b[43m    \u001b[49m\u001b[43mnum_agents\u001b[49m\u001b[43m=\u001b[49m\u001b[32;43m1\u001b[39;49m\u001b[43m)\u001b[49m\n",
      "\u001b[31mTypeError\u001b[39m: EnvParams.__init__() got an unexpected keyword argument 'num_agents'"
     ]
    }
   ],
   "source": [
    "import jax\n",
    "from dataclasses import dataclass\n",
    "\n",
    "@dataclass\n",
    "class EnvParams:\n",
    "    \"\"\"\n",
    "    Base class for environment parameters.\n",
    "    Contains common attributes that all environment parameters should have.\n",
    "    \"\"\"\n",
    "\n",
    "class CrazyflieParams(EnvParams):\n",
    "    num_agents: int = 1         # Number of agents in the environment\n",
    "    mass: float = 1.0           # Mass of the drone\n",
    "\n",
    "params = CrazyflieParams(\n",
    "    num_agents=1)"
   ]
  },
  {
   "cell_type": "code",
   "execution_count": 107,
   "id": "2f09022e",
   "metadata": {},
   "outputs": [
    {
     "data": {
      "text/plain": [
       "Array([[1, 2],\n",
       "       [2, 3]], dtype=int32)"
      ]
     },
     "execution_count": 107,
     "metadata": {},
     "output_type": "execute_result"
    }
   ],
   "source": [
    "jnp.array([[1,2], [2,3]])"
   ]
  },
  {
   "cell_type": "code",
   "execution_count": 137,
   "id": "3d4d6233",
   "metadata": {},
   "outputs": [
    {
     "data": {
      "text/plain": [
       "Array([[-1.1055102 , -0.3212909 ,  0.3030113 ,  0.04504967],\n",
       "       [-0.25374556, -1.1386943 ,  0.69056857,  0.41803753],\n",
       "       [-0.4333626 ,  0.8505027 ,  0.68227184,  0.32156467],\n",
       "       [ 0.07891786, -1.190114  , -1.1471618 ,  0.5575204 ]],      dtype=float32)"
      ]
     },
     "execution_count": 137,
     "metadata": {},
     "output_type": "execute_result"
    }
   ],
   "source": [
    "pos = jax.random.uniform(jax.random.PRNGKey(10), (4, 4), minval=-1.2, maxval=1.2)\n",
    "pos"
   ]
  },
  {
   "cell_type": "code",
   "execution_count": 133,
   "id": "88fd6701",
   "metadata": {},
   "outputs": [
    {
     "data": {
      "text/plain": [
       "Array([ True,  True, False,  True], dtype=bool)"
      ]
     },
     "execution_count": 133,
     "metadata": {},
     "output_type": "execute_result"
    }
   ],
   "source": [
    "jnp.any(jnp.abs(pos) > jnp.array([1.0, 1.0, 1.0, 1.0]), axis=-1)"
   ]
  },
  {
   "cell_type": "code",
   "execution_count": 153,
   "id": "8cfdc578",
   "metadata": {},
   "outputs": [],
   "source": [
    "import jax\n",
    "import jax.numpy as jnp\n",
    "\n",
    "key = jax.random.PRNGKey(0)\n",
    "last_action = jax.random.uniform(key, (2, 10, 4), minval=-1, maxval=1)\n",
    "key = jax.random.PRNGKey(1)\n",
    "current_action = jax.random.uniform(key, (2, 10, 4), minval=-1, maxval=1)"
   ]
  },
  {
   "cell_type": "code",
   "execution_count": null,
   "id": "9ceefda6",
   "metadata": {},
   "outputs": [
    {
     "ename": "TypeError",
     "evalue": "_transpose() got an unexpected keyword argument 'axis'",
     "output_type": "error",
     "traceback": [
      "\u001b[31m---------------------------------------------------------------------------\u001b[39m",
      "\u001b[31mTypeError\u001b[39m                                 Traceback (most recent call last)",
      "\u001b[36mCell\u001b[39m\u001b[36m \u001b[39m\u001b[32mIn[168]\u001b[39m\u001b[32m, line 1\u001b[39m\n\u001b[32m----> \u001b[39m\u001b[32m1\u001b[39m \u001b[43mjax\u001b[49m\u001b[43m.\u001b[49m\u001b[43mrandom\u001b[49m\u001b[43m.\u001b[49m\u001b[43muniform\u001b[49m\u001b[43m(\u001b[49m\u001b[43mkey\u001b[49m\u001b[43m,\u001b[49m\u001b[43m \u001b[49m\u001b[43m(\u001b[49m\u001b[32;43m2\u001b[39;49m\u001b[43m,\u001b[49m\u001b[43m \u001b[49m\u001b[32;43m3\u001b[39;49m\u001b[43m,\u001b[49m\u001b[43m \u001b[49m\u001b[32;43m3\u001b[39;49m\u001b[43m)\u001b[49m\u001b[43m,\u001b[49m\u001b[43m \u001b[49m\u001b[43mminval\u001b[49m\u001b[43m=\u001b[49m\u001b[43m-\u001b[49m\u001b[32;43m1\u001b[39;49m\u001b[43m,\u001b[49m\u001b[43m \u001b[49m\u001b[43mmaxval\u001b[49m\u001b[43m=\u001b[49m\u001b[32;43m1\u001b[39;49m\u001b[43m)\u001b[49m\u001b[43m.\u001b[49m\u001b[43mtranspose\u001b[49m\u001b[43m(\u001b[49m\u001b[43maxis\u001b[49m\u001b[43m=\u001b[49m\u001b[32;43m1\u001b[39;49m\u001b[43m)\u001b[49m\n",
      "\u001b[31mTypeError\u001b[39m: _transpose() got an unexpected keyword argument 'axis'"
     ]
    }
   ],
   "source": [
    "jax.random.uniform(key, (2, 3, 3), minval=-1, maxval=1)"
   ]
  }
 ],
 "metadata": {
  "kernelspec": {
   "display_name": "jax",
   "language": "python",
   "name": "python3"
  },
  "language_info": {
   "codemirror_mode": {
    "name": "ipython",
    "version": 3
   },
   "file_extension": ".py",
   "mimetype": "text/x-python",
   "name": "python",
   "nbconvert_exporter": "python",
   "pygments_lexer": "ipython3",
   "version": "3.12.11"
  }
 },
 "nbformat": 4,
 "nbformat_minor": 5
}
