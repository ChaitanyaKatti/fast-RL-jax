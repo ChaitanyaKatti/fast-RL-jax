{
 "cells": [
  {
   "cell_type": "code",
   "execution_count": null,
   "id": "ad8457cd",
   "metadata": {},
   "outputs": [],
   "source": [
    "import jax.numpy as jnp\n",
    "from jax import random, jit\n",
    "import matplotlib.pyplot as plt\n",
    "from cartpole import CartPoleEnv, CartPoleParams\n",
    "import jax.lax as lax"
   ]
  },
  {
   "cell_type": "code",
   "execution_count": null,
   "id": "13cbaa76",
   "metadata": {},
   "outputs": [],
   "source": [
    "env = CartPoleEnv()\n",
    "params = CartPoleParams(num_agents=1, dt=0.05)\n",
    "\n",
    "def simulate(rng:int = 0):\n",
    "    key = random.PRNGKey(rng)\n",
    "    state = env.reset(key, params)\n",
    "    state = state.replace(physics=jnp.array([0.2,0,-1,0,0]).reshape(params.num_agents, 5))\n",
    "    frames = jnp.zeros((100, params.num_agents, 2))\n",
    "    action = jnp.zeros((params.num_agents, ))\n",
    "    for i in range(100):\n",
    "        frames = frames.at[i, :].set(jnp.array([state.physics[:, 0], state.physics[:, 2]]).reshape(params.num_agents, 2))\n",
    "        state = env.step(state, action, params)\n",
    "    return frames\n",
    "\n",
    "frames = simulate(0)\n",
    "print(frames)"
   ]
  },
  {
   "cell_type": "code",
   "execution_count": null,
   "id": "a3b9256a",
   "metadata": {},
   "outputs": [],
   "source": [
    "env = CartPoleEnv()\n",
    "params = CartPoleParams(num_agents=3, dt=0.05)\n",
    "\n",
    "def simulate(rng:int = 0):\n",
    "    key = random.PRNGKey(rng)\n",
    "    state = env.reset(key, params)\n",
    "    state = state.replace(physics=jnp.array([0.2,0,-1,0,0]*params.num_agents).T.reshape(params.num_agents, 5))\n",
    "    frames = jnp.zeros((100, params.num_agents, 2))\n",
    "    action = jnp.zeros((params.num_agents, ))\n",
    "    for i in range(100):\n",
    "        frames = frames.at[i, :].set(jnp.array([state.physics[:, 0], state.physics[:, 2]]).reshape(params.num_agents, 2))\n",
    "        state = env.step(state, action, params)\n",
    "    return frames\n",
    "\n",
    "frames = simulate(0)\n",
    "print(frames)"
   ]
  },
  {
   "cell_type": "code",
   "execution_count": null,
   "id": "73a185df",
   "metadata": {},
   "outputs": [],
   "source": [
    "state = env.reset(random.PRNGKey(0), params)\n",
    "state = state.replace(physics=jnp.array([0.2,0,-1,0,0]*params.num_agents).T.reshape(params.num_agents, 5))\n",
    "frames = jnp.zeros((100, params.num_agents, 2))\n",
    "frames = frames.at[0, :].set(jnp.array([state.physics[:, 0], state.physics[:, 2]]).T.reshape(params.num_agents, 2))\n",
    "frames"
   ]
  },
  {
   "cell_type": "code",
   "execution_count": null,
   "id": "e8743618",
   "metadata": {},
   "outputs": [],
   "source": [
    "import numpy as np\n",
    "import matplotlib.pyplot as plt\n",
    "\n",
    "# Parameters (example values similar to PPO paper)\n",
    "mu_old = 0.0           # old policy mean\n",
    "log_std_old = 0.0      # old policy log std (σ_old = 1)\n",
    "sigma_old = np.exp(log_std_old)\n",
    "\n",
    "a_t = 0.0              # action taken\n",
    "eps = 0.2              # PPO clip epsilon\n",
    "\n",
    "# Grid for μ_t and log σ_t\n",
    "mu_range = np.linspace(-1.2, 1.2, 300)\n",
    "log_std_range = np.linspace(-1.4, 0.5, 300)\n",
    "MU, LOG_STD = np.meshgrid(mu_range, log_std_range)\n",
    "SIGMA = np.exp(LOG_STD)\n",
    "\n",
    "# Compute log r_t\n",
    "log_r = (log_std_old - LOG_STD) + \\\n",
    "        ((a_t - mu_old)**2) / (2 * sigma_old**2) - \\\n",
    "        ((a_t - MU)**2) / (2 * SIGMA**2)\n",
    "\n",
    "# Clip bounds in log space\n",
    "lower_bound = np.log(1 - eps)\n",
    "upper_bound = np.log(1 + eps)\n",
    "\n",
    "# Region mask\n",
    "mask = (log_r >= lower_bound) & (log_r <= upper_bound)\n",
    "\n",
    "# Compute KL divergence D_KL( pi_old || pi_new ) for Gaussian policies\n",
    "KL = np.log(SIGMA / sigma_old) + \\\n",
    "     (sigma_old**2 + (MU - mu_old)**2) / (2 * SIGMA**2) - 0.5\n",
    "\n",
    "# Plot with KL contours\n",
    "plt.figure(figsize=(6,6))\n",
    "plt.contour(MU, LOG_STD, log_r, levels=[lower_bound, upper_bound],\n",
    "            colors='k', linestyles='--', linewidths=1.5, alpha=0.8)\n",
    "plt.imshow(1-mask, extent=[mu_range.min(), mu_range.max(), log_std_range.min(), log_std_range.max()],\n",
    "           origin='lower', alpha=0.15, cmap='gray')\n",
    "\n",
    "# KL divergence contours\n",
    "kl_levels = [0.01, 0.05, 0.1, 0.2, 0.5, 1.0, 2.0, 5.0]\n",
    "contours = plt.contour(MU, LOG_STD, KL, levels=kl_levels, cmap='coolwarm')\n",
    "plt.clabel(contours, inline=True, fontsize=8, fmt=\"%.2f\")\n",
    "\n",
    "# Mark theta_old\n",
    "plt.scatter(mu_old, log_std_old, color='red', label=r'$\\theta_{\\mathrm{old}}$')\n",
    "plt.xlabel(r'$\\mu_t$')\n",
    "plt.ylabel(r'$\\log \\Sigma_t$')\n",
    "plt.legend()\n",
    "plt.title(\"PPO Clipping Region with KL Divergence Contours\")\n",
    "plt.show()\n"
   ]
  },
  {
   "cell_type": "code",
   "execution_count": 1,
   "id": "54b98260",
   "metadata": {},
   "outputs": [
    {
     "name": "stderr",
     "output_type": "stream",
     "text": [
      "WARNING:2025-08-06 14:56:37,848:jax._src.xla_bridge:872: An NVIDIA GPU may be present on this machine, but a CUDA-enabled jaxlib is not installed. Falling back to cpu.\n"
     ]
    }
   ],
   "source": [
    "import jax\n",
    "import jax.numpy as jnp\n",
    "\n",
    "_rng = jax.random.PRNGKey(0)"
   ]
  },
  {
   "cell_type": "code",
   "execution_count": 4,
   "id": "1d24e89e",
   "metadata": {},
   "outputs": [
    {
     "data": {
      "text/plain": [
       "(10, 2)"
      ]
     },
     "execution_count": 4,
     "metadata": {},
     "output_type": "execute_result"
    }
   ],
   "source": [
    "jax.random.split(_rng, 10).shape"
   ]
  }
 ],
 "metadata": {
  "kernelspec": {
   "display_name": "jax",
   "language": "python",
   "name": "python3"
  },
  "language_info": {
   "codemirror_mode": {
    "name": "ipython",
    "version": 3
   },
   "file_extension": ".py",
   "mimetype": "text/x-python",
   "name": "python",
   "nbconvert_exporter": "python",
   "pygments_lexer": "ipython3",
   "version": "3.12.11"
  }
 },
 "nbformat": 4,
 "nbformat_minor": 5
}
